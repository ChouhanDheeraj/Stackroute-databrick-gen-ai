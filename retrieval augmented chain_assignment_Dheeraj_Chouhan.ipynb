{
 "cells": [
  {
   "cell_type": "markdown",
   "metadata": {
    "application/vnd.databricks.v1+cell": {
     "cellMetadata": {},
     "inputWidgets": {},
     "nuid": "3142396e-18f7-4600-abf6-244bad94b875",
     "showTitle": false,
     "tableResultSettingsMap": {},
     "title": ""
    }
   },
   "source": [
    "#### Note please uplaod a pdf with name \"my_file\" in same directory as notebook then only this notebook will run and will answer your question out of pdf."
   ]
  },
  {
   "cell_type": "code",
   "execution_count": 0,
   "metadata": {
    "application/vnd.databricks.v1+cell": {
     "cellMetadata": {
      "byteLimit": 2048000,
      "rowLimit": 10000
     },
     "inputWidgets": {},
     "nuid": "a588bdb1-f78b-4d59-a719-05c6171f7151",
     "showTitle": false,
     "tableResultSettingsMap": {},
     "title": ""
    }
   },
   "outputs": [
    {
     "name": "stdout",
     "output_type": "stream",
     "text": [
      "Requirement already satisfied: faiss-cpu in /local_disk0/.ephemeral_nfs/envs/pythonEnv-428bb408-f350-4a75-aa12-33b444673edf/lib/python3.11/site-packages (1.9.0.post1)\n",
      "Requirement already satisfied: PyPDF2 in /local_disk0/.ephemeral_nfs/envs/pythonEnv-428bb408-f350-4a75-aa12-33b444673edf/lib/python3.11/site-packages (3.0.1)\n",
      "Requirement already satisfied: sentence-transformers in /local_disk0/.ephemeral_nfs/envs/pythonEnv-428bb408-f350-4a75-aa12-33b444673edf/lib/python3.11/site-packages (3.3.1)\n",
      "Requirement already satisfied: transformers in /local_disk0/.ephemeral_nfs/envs/pythonEnv-428bb408-f350-4a75-aa12-33b444673edf/lib/python3.11/site-packages (4.46.3)\n",
      "Requirement already satisfied: numpy in /local_disk0/.ephemeral_nfs/envs/pythonEnv-428bb408-f350-4a75-aa12-33b444673edf/lib/python3.11/site-packages (1.26.4)\n",
      "Requirement already satisfied: packaging in /databricks/python3/lib/python3.11/site-packages (from faiss-cpu) (23.2)\n",
      "Requirement already satisfied: tqdm in /local_disk0/.ephemeral_nfs/envs/pythonEnv-428bb408-f350-4a75-aa12-33b444673edf/lib/python3.11/site-packages (from sentence-transformers) (4.67.1)\n",
      "Requirement already satisfied: torch>=1.11.0 in /local_disk0/.ephemeral_nfs/envs/pythonEnv-428bb408-f350-4a75-aa12-33b444673edf/lib/python3.11/site-packages (from sentence-transformers) (2.5.1)\n",
      "Requirement already satisfied: scikit-learn in /databricks/python3/lib/python3.11/site-packages (from sentence-transformers) (1.3.0)\n",
      "Requirement already satisfied: scipy in /databricks/python3/lib/python3.11/site-packages (from sentence-transformers) (1.11.1)\n",
      "Requirement already satisfied: huggingface-hub>=0.20.0 in /local_disk0/.ephemeral_nfs/envs/pythonEnv-428bb408-f350-4a75-aa12-33b444673edf/lib/python3.11/site-packages (from sentence-transformers) (0.26.3)\n",
      "Requirement already satisfied: Pillow in /databricks/python3/lib/python3.11/site-packages (from sentence-transformers) (9.4.0)\n",
      "Requirement already satisfied: filelock in /databricks/python3/lib/python3.11/site-packages (from transformers) (3.13.4)\n",
      "Requirement already satisfied: pyyaml>=5.1 in /databricks/python3/lib/python3.11/site-packages (from transformers) (6.0)\n",
      "Requirement already satisfied: regex!=2019.12.17 in /local_disk0/.ephemeral_nfs/envs/pythonEnv-428bb408-f350-4a75-aa12-33b444673edf/lib/python3.11/site-packages (from transformers) (2024.11.6)\n",
      "Requirement already satisfied: requests in /databricks/python3/lib/python3.11/site-packages (from transformers) (2.31.0)\n",
      "Requirement already satisfied: tokenizers<0.21,>=0.20 in /local_disk0/.ephemeral_nfs/envs/pythonEnv-428bb408-f350-4a75-aa12-33b444673edf/lib/python3.11/site-packages (from transformers) (0.20.3)\n",
      "Requirement already satisfied: safetensors>=0.4.1 in /local_disk0/.ephemeral_nfs/envs/pythonEnv-428bb408-f350-4a75-aa12-33b444673edf/lib/python3.11/site-packages (from transformers) (0.4.5)\n",
      "Requirement already satisfied: fsspec>=2023.5.0 in /local_disk0/.ephemeral_nfs/envs/pythonEnv-428bb408-f350-4a75-aa12-33b444673edf/lib/python3.11/site-packages (from huggingface-hub>=0.20.0->sentence-transformers) (2024.10.0)\n",
      "Requirement already satisfied: typing-extensions>=3.7.4.3 in /databricks/python3/lib/python3.11/site-packages (from huggingface-hub>=0.20.0->sentence-transformers) (4.10.0)\n",
      "Requirement already satisfied: networkx in /local_disk0/.ephemeral_nfs/envs/pythonEnv-428bb408-f350-4a75-aa12-33b444673edf/lib/python3.11/site-packages (from torch>=1.11.0->sentence-transformers) (3.4.2)\n",
      "Requirement already satisfied: jinja2 in /local_disk0/.ephemeral_nfs/envs/pythonEnv-428bb408-f350-4a75-aa12-33b444673edf/lib/python3.11/site-packages (from torch>=1.11.0->sentence-transformers) (3.1.4)\n",
      "Requirement already satisfied: nvidia-cuda-nvrtc-cu12==12.4.127 in /local_disk0/.ephemeral_nfs/envs/pythonEnv-428bb408-f350-4a75-aa12-33b444673edf/lib/python3.11/site-packages (from torch>=1.11.0->sentence-transformers) (12.4.127)\n",
      "Requirement already satisfied: nvidia-cuda-runtime-cu12==12.4.127 in /local_disk0/.ephemeral_nfs/envs/pythonEnv-428bb408-f350-4a75-aa12-33b444673edf/lib/python3.11/site-packages (from torch>=1.11.0->sentence-transformers) (12.4.127)\n",
      "Requirement already satisfied: nvidia-cuda-cupti-cu12==12.4.127 in /local_disk0/.ephemeral_nfs/envs/pythonEnv-428bb408-f350-4a75-aa12-33b444673edf/lib/python3.11/site-packages (from torch>=1.11.0->sentence-transformers) (12.4.127)\n",
      "Requirement already satisfied: nvidia-cudnn-cu12==9.1.0.70 in /local_disk0/.ephemeral_nfs/envs/pythonEnv-428bb408-f350-4a75-aa12-33b444673edf/lib/python3.11/site-packages (from torch>=1.11.0->sentence-transformers) (9.1.0.70)\n",
      "Requirement already satisfied: nvidia-cublas-cu12==12.4.5.8 in /local_disk0/.ephemeral_nfs/envs/pythonEnv-428bb408-f350-4a75-aa12-33b444673edf/lib/python3.11/site-packages (from torch>=1.11.0->sentence-transformers) (12.4.5.8)\n",
      "Requirement already satisfied: nvidia-cufft-cu12==11.2.1.3 in /local_disk0/.ephemeral_nfs/envs/pythonEnv-428bb408-f350-4a75-aa12-33b444673edf/lib/python3.11/site-packages (from torch>=1.11.0->sentence-transformers) (11.2.1.3)\n",
      "Requirement already satisfied: nvidia-curand-cu12==10.3.5.147 in /local_disk0/.ephemeral_nfs/envs/pythonEnv-428bb408-f350-4a75-aa12-33b444673edf/lib/python3.11/site-packages (from torch>=1.11.0->sentence-transformers) (10.3.5.147)\n",
      "Requirement already satisfied: nvidia-cusolver-cu12==11.6.1.9 in /local_disk0/.ephemeral_nfs/envs/pythonEnv-428bb408-f350-4a75-aa12-33b444673edf/lib/python3.11/site-packages (from torch>=1.11.0->sentence-transformers) (11.6.1.9)\n",
      "Requirement already satisfied: nvidia-cusparse-cu12==12.3.1.170 in /local_disk0/.ephemeral_nfs/envs/pythonEnv-428bb408-f350-4a75-aa12-33b444673edf/lib/python3.11/site-packages (from torch>=1.11.0->sentence-transformers) (12.3.1.170)\n",
      "Requirement already satisfied: nvidia-nccl-cu12==2.21.5 in /local_disk0/.ephemeral_nfs/envs/pythonEnv-428bb408-f350-4a75-aa12-33b444673edf/lib/python3.11/site-packages (from torch>=1.11.0->sentence-transformers) (2.21.5)\n",
      "Requirement already satisfied: nvidia-nvtx-cu12==12.4.127 in /local_disk0/.ephemeral_nfs/envs/pythonEnv-428bb408-f350-4a75-aa12-33b444673edf/lib/python3.11/site-packages (from torch>=1.11.0->sentence-transformers) (12.4.127)\n",
      "Requirement already satisfied: nvidia-nvjitlink-cu12==12.4.127 in /local_disk0/.ephemeral_nfs/envs/pythonEnv-428bb408-f350-4a75-aa12-33b444673edf/lib/python3.11/site-packages (from torch>=1.11.0->sentence-transformers) (12.4.127)\n",
      "Requirement already satisfied: triton==3.1.0 in /local_disk0/.ephemeral_nfs/envs/pythonEnv-428bb408-f350-4a75-aa12-33b444673edf/lib/python3.11/site-packages (from torch>=1.11.0->sentence-transformers) (3.1.0)\n",
      "Requirement already satisfied: sympy==1.13.1 in /local_disk0/.ephemeral_nfs/envs/pythonEnv-428bb408-f350-4a75-aa12-33b444673edf/lib/python3.11/site-packages (from torch>=1.11.0->sentence-transformers) (1.13.1)\n",
      "Requirement already satisfied: mpmath<1.4,>=1.1.0 in /local_disk0/.ephemeral_nfs/envs/pythonEnv-428bb408-f350-4a75-aa12-33b444673edf/lib/python3.11/site-packages (from sympy==1.13.1->torch>=1.11.0->sentence-transformers) (1.3.0)\n",
      "Requirement already satisfied: charset-normalizer<4,>=2 in /databricks/python3/lib/python3.11/site-packages (from requests->transformers) (2.0.4)\n",
      "Requirement already satisfied: idna<4,>=2.5 in /databricks/python3/lib/python3.11/site-packages (from requests->transformers) (3.4)\n",
      "Requirement already satisfied: urllib3<3,>=1.21.1 in /databricks/python3/lib/python3.11/site-packages (from requests->transformers) (1.26.16)\n",
      "Requirement already satisfied: certifi>=2017.4.17 in /databricks/python3/lib/python3.11/site-packages (from requests->transformers) (2023.7.22)\n",
      "Requirement already satisfied: joblib>=1.1.1 in /databricks/python3/lib/python3.11/site-packages (from scikit-learn->sentence-transformers) (1.2.0)\n",
      "Requirement already satisfied: threadpoolctl>=2.0.0 in /databricks/python3/lib/python3.11/site-packages (from scikit-learn->sentence-transformers) (2.2.0)\n",
      "Requirement already satisfied: MarkupSafe>=2.0 in /local_disk0/.ephemeral_nfs/envs/pythonEnv-428bb408-f350-4a75-aa12-33b444673edf/lib/python3.11/site-packages (from jinja2->torch>=1.11.0->sentence-transformers) (3.0.2)\n",
      "\u001b[43mNote: you may need to restart the kernel using %restart_python or dbutils.library.restartPython() to use updated packages.\u001b[0m\n"
     ]
    }
   ],
   "source": [
    "pip install faiss-cpu PyPDF2 sentence-transformers transformers numpy"
   ]
  },
  {
   "cell_type": "code",
   "execution_count": 0,
   "metadata": {
    "application/vnd.databricks.v1+cell": {
     "cellMetadata": {
      "byteLimit": 2048000,
      "rowLimit": 10000
     },
     "inputWidgets": {},
     "nuid": "cf8855b0-c78d-4f56-99a0-b8d709b47832",
     "showTitle": false,
     "tableResultSettingsMap": {},
     "title": ""
    }
   },
   "outputs": [
    {
     "name": "stdout",
     "output_type": "stream",
     "text": [
      "Please upload the file 'my_file.pdf' to the directory /Workspace/Users/sumitraja2016@gmail.com/Assignment/RAG assignment/ and press Enter to continue.\n"
     ]
    },
    {
     "data": {
      "text/plain": [
       "Press Enter after uploading the file... "
      ]
     },
     "metadata": {},
     "output_type": "display_data"
    },
    {
     "name": "stdout",
     "output_type": "stream",
     "text": [
      "File 'my_file.pdf' has been uploaded successfully. Proceeding with the next steps...\n"
     ]
    }
   ],
   "source": [
    "import os\n",
    "\n",
    "# Define the directory where the file should be uploaded\n",
    "upload_directory = '/Workspace/Users/dheerajchouhan.com/Assignment/RAG_assignment/'\n",
    "\n",
    "# Specify the file name you are expecting\n",
    "expected_file = 'my_file.pdf'\n",
    "\n",
    "# Wait until the user uploads the file\n",
    "print(f\"Please upload the file '{expected_file}' to the directory {upload_directory} and press Enter to continue.\")\n",
    "\n",
    "# Wait for user input to start\n",
    "input(\"Press Enter after uploading the file...\")\n",
    "\n",
    "# Check if the file exists in the specified directory\n",
    "file_path = os.path.join(upload_directory, expected_file)\n",
    "\n",
    "while not os.path.exists(file_path):\n",
    "    print(file_path)\n",
    "    print(f\"File '{expected_file}' not found. Please upload the file to {upload_directory}.\")\n",
    "    input(\"Press Enter after uploading the file...\")\n",
    "    file_path = os.path.join(upload_directory, expected_file)\n",
    "\n",
    "print(f\"File '{expected_file}' has been uploaded successfully. Proceeding with the next steps...\")\n"
   ]
  },
  {
   "cell_type": "code",
   "execution_count": 0,
   "metadata": {
    "application/vnd.databricks.v1+cell": {
     "cellMetadata": {
      "byteLimit": 2048000,
      "rowLimit": 10000
     },
     "inputWidgets": {},
     "nuid": "f570c0af-8e62-4400-a19c-6886ba12c642",
     "showTitle": false,
     "tableResultSettingsMap": {},
     "title": ""
    }
   },
   "outputs": [
    {
     "name": "stdout",
     "output_type": "stream",
     "text": [
      "Extracted 83 chunks from the PDF.\n"
     ]
    },
    {
     "data": {
      "text/plain": [
       "Ask a question from uploaded files (type 'STOP' to exit):  Landauer’s observation"
      ]
     },
     "metadata": {},
     "output_type": "display_data"
    },
    {
     "name": "stderr",
     "output_type": "stream",
     "text": [
      "Your max_length is set to 1000, but your input_length is only 265. Since this is a summarization task, where outputs shorter than the input are typically wanted, you might consider decreasing max_length manually, e.g. summarizer('...', max_length=132)\n"
     ]
    },
    {
     "name": "stdout",
     "output_type": "stream",
     "text": [
      "Answer: \n",
      "\n",
      "\n",
      "\n",
      "\n",
      "\n",
      "\n",
      "\n",
      "\n",
      "The fundamental basis of quantum computation is Landauer’s observation that all information is ultimately physical. Information, the 1's and 0's of classical computers, must inevitably be recorded by some physical system - be it paper or silicon. As far as we know today, all matter is composed of atoms - nuclei and electrons - and the interactions and time evolution of atoms are governed by the laws of quantum mechanics.\n",
      "\n",
      "\n",
      "\n",
      "\n",
      "\n",
      "\n",
      "\n",
      "\n",
      "\n"
     ]
    },
    {
     "data": {
      "text/plain": [
       "Ask a question from uploaded files (type 'STOP' to exit):  "
      ]
     },
     "metadata": {},
     "output_type": "display_data"
    }
   ],
   "source": [
    "# Import necessary libraries\n",
    "import os\n",
    "import shutil\n",
    "import PyPDF2\n",
    "import numpy as np\n",
    "import faiss\n",
    "from transformers import pipeline\n",
    "from sentence_transformers import SentenceTransformer\n",
    "\n",
    "# pdf_path = \"/Workspace/Users/dheerajchouhan.com/Assignment/RAG_assignment/p165.pdf\"\n",
    "# Load the embedding model\n",
    "embedder = SentenceTransformer('all-MiniLM-L6-v2')\n",
    "\n",
    "# Function to parse PDF and split text into smaller chunks\n",
    "def extract_text_from_pdf(pdf_file_path):\n",
    "    reader = PyPDF2.PdfReader(pdf_file_path)\n",
    "    text = \"\"\n",
    "    for page in reader.pages:\n",
    "        text += page.extract_text()\n",
    "    overlap = 800  # Overlapping characters\n",
    "    chunk_size = 1200  # Size of each chunk\n",
    "    chunks = []\n",
    "    if len(text) < chunk_size:\n",
    "        chunks.append(text)\n",
    "    else:\n",
    "        chunks = [text[i:i + chunk_size] for i in range(0, len(text) - chunk_size + 1, chunk_size - overlap)]\n",
    "    return chunks\n",
    "\n",
    "# Function to generate embeddings from document chunks\n",
    "def generate_embeddings(chunks):\n",
    "    embeddings = embedder.encode(chunks)\n",
    "    return embeddings\n",
    "\n",
    "# Function to create FAISS index and add embeddings\n",
    "def create_faiss_index(embeddings):\n",
    "    dimension = embeddings.shape[1]\n",
    "    index = faiss.IndexFlatL2(dimension)\n",
    "    index.add(np.array(embeddings))\n",
    "    return index\n",
    "\n",
    "# Function to perform similarity search using FAISS\n",
    "def perform_similarity_search(index, user_question):\n",
    "    query_embedding = embedder.encode([user_question])\n",
    "    query_embedding = np.array(query_embedding).reshape(1, -1)\n",
    "    k = 2  # Number of nearest neighbors to retrieve\n",
    "    distances, indices = index.search(query_embedding, k=k)\n",
    "    return indices\n",
    "\n",
    "# Function to summarize the selected chunk of text\n",
    "def summarize_text(chunk):\n",
    "    summarizer = pipeline(\"summarization\", model=\"facebook/bart-large-cnn\")\n",
    "    summary = summarizer(chunk, max_length=1000, min_length=50, do_sample=False)\n",
    "    return summary[0]['summary_text']\n",
    "\n",
    "# Main workflow\n",
    "def main():\n",
    "    # Step 1: Extract text from PDF\n",
    "    chunks = extract_text_from_pdf(file_path)\n",
    "    print(f\"Extracted {len(chunks)} chunks from the PDF.\")\n",
    "\n",
    "    # Step 2: Generate embeddings\n",
    "    embeddings = generate_embeddings(chunks)\n",
    "\n",
    "    # Step 3: Create FAISS index\n",
    "    index = create_faiss_index(embeddings)\n",
    "\n",
    "    while True:\n",
    "        # Get the user question\n",
    "        user_question = input(\"Ask a question from uploaded files (type 'STOP' to exit): \")\n",
    "        if user_question.lower() == 'stop':\n",
    "            print(\"Session ended.\")\n",
    "            break\n",
    "\n",
    "        # Step 4: Perform similarity search\n",
    "        indices = perform_similarity_search(index, user_question)\n",
    "\n",
    "        # Step 5: Retrieve the top chunk\n",
    "        top_chunk_index = indices[0][0]\n",
    "        top_chunk_text = chunks[top_chunk_index]\n",
    "\n",
    "        # Step 6: Summarize the top chunk\n",
    "        summary = summarize_text(top_chunk_text)\n",
    "        print(f\"Answer: \\n\\n\\n\\n\\n\\n\\n\\n\\n{summary}\\n\\n\\n\\n\\n\\n\\n\\n\\n\")\n",
    "\n",
    "# Run the main function\n",
    "main()\n"
   ]
  },
  {
   "cell_type": "code",
   "execution_count": 0,
   "metadata": {
    "application/vnd.databricks.v1+cell": {
     "cellMetadata": {
      "byteLimit": 2048000,
      "rowLimit": 10000
     },
     "inputWidgets": {},
     "nuid": "3324f371-1199-45d5-9946-2d6ba52bf902",
     "showTitle": false,
     "tableResultSettingsMap": {},
     "title": ""
    }
   },
   "outputs": [],
   "source": []
  }
 ],
 "metadata": {
  "application/vnd.databricks.v1+notebook": {
   "dashboards": [],
   "environmentMetadata": {
    "base_environment": "",
    "client": "1"
   },
   "language": "python",
   "notebookMetadata": {
    "pythonIndentUnit": 4
   },
   "notebookName": "RAG",
   "widgets": {}
  },
  "language_info": {
   "name": "python"
  }
 },
 "nbformat": 4,
 "nbformat_minor": 0
}
